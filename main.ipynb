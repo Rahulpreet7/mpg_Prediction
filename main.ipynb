{
 "cells": [
  {
   "cell_type": "code",
   "execution_count": 1,
   "metadata": {
    "executionInfo": {
     "elapsed": 294,
     "status": "ok",
     "timestamp": 1686105868108,
     "user": {
      "displayName": "Rahulpreet Singh Bal",
      "userId": "15603091197384533309"
     },
     "user_tz": 360
    },
    "id": "Q9mpqthAiH6q"
   },
   "outputs": [],
   "source": [
    "import numpy as np\n",
    "import pandas as pd\n",
    "import sklearn\n",
    "import seaborn as sns\n",
    "import gunicorn\n",
    "from flask import Flask, request, jsonify\n"
   ]
  },
  {
   "cell_type": "code",
   "execution_count": 17,
   "metadata": {
    "executionInfo": {
     "elapsed": 2,
     "status": "ok",
     "timestamp": 1686106094192,
     "user": {
      "displayName": "Rahulpreet Singh Bal",
      "userId": "15603091197384533309"
     },
     "user_tz": 360
    },
    "id": "--DbH-TFv8v3"
   },
   "outputs": [
    {
     "ename": "ImportError",
     "evalue": "cannot import name 'predict_mpg' from 'ml_model' (/Users/rahulpreet7/Desktop/Projects/End to End project/ml_model.py)",
     "output_type": "error",
     "traceback": [
      "\u001b[0;31m---------------------------------------------------------------------------\u001b[0m",
      "\u001b[0;31mImportError\u001b[0m                               Traceback (most recent call last)",
      "\u001b[1;32m/Users/rahulpreet7/Desktop/Projects/End to End project/main.ipynb Cell 2\u001b[0m in \u001b[0;36m1\n\u001b[0;32m----> <a href='vscode-notebook-cell:/Users/rahulpreet7/Desktop/Projects/End%20to%20End%20project/main.ipynb#W3sZmlsZQ%3D%3D?line=0'>1</a>\u001b[0m \u001b[39mfrom\u001b[39;00m \u001b[39mml_model\u001b[39;00m \u001b[39mimport\u001b[39;00m predict_mpg\n",
      "\u001b[0;31mImportError\u001b[0m: cannot import name 'predict_mpg' from 'ml_model' (/Users/rahulpreet7/Desktop/Projects/End to End project/ml_model.py)"
     ]
    }
   ],
   "source": []
  },
  {
   "cell_type": "code",
   "execution_count": 5,
   "metadata": {
    "executionInfo": {
     "elapsed": 2,
     "status": "ok",
     "timestamp": 1686102428166,
     "user": {
      "displayName": "Rahulpreet Singh Bal",
      "userId": "15603091197384533309"
     },
     "user_tz": 360
    },
    "id": "p_4i79aNiNTa"
   },
   "outputs": [],
   "source": [
    "##creating a flask app and naming it \"app\"\n",
    "app = Flask(\"app\")"
   ]
  },
  {
   "cell_type": "code",
   "execution_count": 7,
   "metadata": {
    "executionInfo": {
     "elapsed": 314,
     "status": "ok",
     "timestamp": 1686102510363,
     "user": {
      "displayName": "Rahulpreet Singh Bal",
      "userId": "15603091197384533309"
     },
     "user_tz": 360
    },
    "id": "bNVbt5aTiUba"
   },
   "outputs": [],
   "source": [
    "@app.route('/test', methods = ['GET'])\n",
    "def test():\n",
    "  return \"Pinging Model Application\""
   ]
  },
  {
   "cell_type": "code",
   "execution_count": 38,
   "metadata": {
    "executionInfo": {
     "elapsed": 293,
     "status": "ok",
     "timestamp": 1686106196290,
     "user": {
      "displayName": "Rahulpreet Singh Bal",
      "userId": "15603091197384533309"
     },
     "user_tz": 360
    },
    "id": "LiAiDiFUwWI4"
   },
   "outputs": [],
   "source": [
    "@app.route(\"/predict\", methods =[\"POST\"])\n",
    "def predict():\n",
    "  vehicle = request.get_json()\n",
    "  print(vehicle)\n",
    "  with open('./model_files/model.bin', 'rb') as f_in:\n",
    "      model = pickle.load(f_in)\n",
    "      f_in.close()\n",
    "  predictions = predict_mpg(vehicle, model)\n",
    "\n",
    "  result = {\n",
    "      'mpg_prediction': list(predictions)\n",
    "  }\n",
    "  return jsonify(result)"
   ]
  },
  {
   "cell_type": "code",
   "execution_count": null,
   "metadata": {
    "executionInfo": {
     "elapsed": 273,
     "status": "ok",
     "timestamp": 1686102799868,
     "user": {
      "displayName": "Rahulpreet Singh Bal",
      "userId": "15603091197384533309"
     },
     "user_tz": 360
    },
    "id": "-hPLNr40ifT6"
   },
   "outputs": [],
   "source": [
    "if __name__ == \"__main_\":\n",
    "    app.run(debug=True, host='0.0.0.0', port=9696)"
   ]
  },
  {
   "cell_type": "code",
   "execution_count": null,
   "metadata": {},
   "outputs": [],
   "source": [
    "print(\"hello\")"
   ]
  },
  {
   "cell_type": "code",
   "execution_count": null,
   "metadata": {
    "id": "E_8FIJqEjkxK"
   },
   "outputs": [],
   "source": []
  }
 ],
 "metadata": {
  "colab": {
   "authorship_tag": "ABX9TyP04Ygq2ICOr7DC/unSm/L4",
   "mount_file_id": "1OXDKbtyXIq1HiMzgGDO93bFi_hVjYYct",
   "provenance": []
  },
  "kernelspec": {
   "display_name": "Python 3 (ipykernel)",
   "language": "python",
   "name": "python3"
  },
  "language_info": {
   "codemirror_mode": {
    "name": "ipython",
    "version": 3
   },
   "file_extension": ".py",
   "mimetype": "text/x-python",
   "name": "python",
   "nbconvert_exporter": "python",
   "pygments_lexer": "ipython3",
   "version": "3.10.7"
  }
 },
 "nbformat": 4,
 "nbformat_minor": 1
}
